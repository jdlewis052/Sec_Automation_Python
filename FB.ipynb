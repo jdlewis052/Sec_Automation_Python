{
 "cells": [
  {
   "cell_type": "code",
   "execution_count": null,
   "metadata": {},
   "outputs": [],
   "source": [
    "import facebook\n",
    "\n",
    "# Step 1: Setup your Facebook App ID and App Secret\n",
    "app_id = '211293564882599'\n",
    "app_secret = 'bbf2b90080296d180587764a3d080d1c'\n",
    "\n",
    "# Step 2: Set up Facebook Graph API connection and obtain user access token\n",
    "graph = facebook.GraphAPI(access_token=user_access_token, version='3.0')\n",
    "\n",
    "# Step 3: Define social media security levels\n",
    "level_one_permissions = ['public_profile', 'email', 'user_friends']\n",
    "level_two_permissions = ['public_profile', 'email', 'user_friends', 'user_photos', 'user_videos']\n",
    "level_three_permissions = ['public_profile', 'email', 'user_friends', 'user_photos', 'user_videos', 'user_posts']\n",
    "\n",
    "# Step 4: Let user select a social media security level\n",
    "user_input = input(\"Enter a number between 1-3 to set social media security level: \")\n",
    "\n",
    "if user_input == '1':\n",
    "    permissions = level_one_permissions\n",
    "elif user_input == '2':\n",
    "    permissions = level_two_permissions\n",
    "elif user_input == '3':\n",
    "    permissions = level_three_permissions\n",
    "else:\n",
    "    print(\"Invalid input. Please enter a number between 1-3.\")\n",
    "\n",
    "# Step 5: Request user's permission to use selected permissions and retrieve user access token\n",
    "login_url = graph.get_auth_url(app_id, redirect_uri='https://localhost/oauth_callback', scope=permissions)\n",
    "print(f\"Click the following link to grant permission to the app:\\n{login_url}\")\n",
    "redirect_response = input(\"Copy the URL you're redirected to after the login and paste it here: \")\n",
    "access_token = graph.get_access_token_from_code(redirect_response, redirect_uri='https://localhost/oauth_callback', app_id=app_id, app_secret=app_secret)\n",
    "    \n",
    "# Step 6: Use Facebook API to retrieve data using user access token with selected permissions\n",
    "user_data = graph.get_object('me', fields=','.join(permissions))\n",
    "print(f\"User data for {user_data['name']}:\\n{user_data}\")\n"
   ]
  }
 ],
 "metadata": {
  "kernelspec": {
   "display_name": "Python 3",
   "language": "python",
   "name": "python3"
  },
  "language_info": {
   "codemirror_mode": {
    "name": "ipython",
    "version": 3
   },
   "file_extension": ".py",
   "mimetype": "text/x-python",
   "name": "python",
   "nbconvert_exporter": "python",
   "pygments_lexer": "ipython3",
   "version": "3.8.3"
  }
 },
 "nbformat": 4,
 "nbformat_minor": 4
}
