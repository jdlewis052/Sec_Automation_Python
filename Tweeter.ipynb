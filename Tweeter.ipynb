{
 "cells": [
  {
   "cell_type": "code",
   "execution_count": 3,
   "metadata": {},
   "outputs": [
    {
     "name": "stdin",
     "output_type": "stream",
     "text": [
      "Enter a number between 1-3 to set social media security level:  1\n"
     ]
    },
    {
     "ename": "AttributeError",
     "evalue": "'API' object has no attribute 'access_token'",
     "output_type": "error",
     "traceback": [
      "\u001b[0;31m---------------------------------------------------------------------------\u001b[0m",
      "\u001b[0;31mAttributeError\u001b[0m                            Traceback (most recent call last)",
      "\u001b[0;32m<ipython-input-3-e6152cc2b70c>\u001b[0m in \u001b[0;36m<module>\u001b[0;34m\u001b[0m\n\u001b[1;32m     30\u001b[0m \u001b[0;34m\u001b[0m\u001b[0m\n\u001b[1;32m     31\u001b[0m \u001b[0;31m# Step 5: Request user's permission to use selected permissions and retrieve user access token with read-only access\u001b[0m\u001b[0;34m\u001b[0m\u001b[0;34m\u001b[0m\u001b[0;34m\u001b[0m\u001b[0m\n\u001b[0;32m---> 32\u001b[0;31m \u001b[0maccess_token\u001b[0m \u001b[0;34m=\u001b[0m \u001b[0mapi\u001b[0m\u001b[0;34m.\u001b[0m\u001b[0maccess_token\u001b[0m\u001b[0;34m\u001b[0m\u001b[0;34m\u001b[0m\u001b[0m\n\u001b[0m\u001b[1;32m     33\u001b[0m \u001b[0maccess_token_secret\u001b[0m \u001b[0;34m=\u001b[0m \u001b[0mapi\u001b[0m\u001b[0;34m.\u001b[0m\u001b[0maccess_token_secret\u001b[0m\u001b[0;34m\u001b[0m\u001b[0;34m\u001b[0m\u001b[0m\n\u001b[1;32m     34\u001b[0m \u001b[0;34m\u001b[0m\u001b[0m\n",
      "\u001b[0;31mAttributeError\u001b[0m: 'API' object has no attribute 'access_token'"
     ]
    }
   ],
   "source": [
    "import tweepy\n",
    "\n",
    "# Step 1: Setup your Twitter App ID, App Secret, Access Token, and Access Token Secret\n",
    "app_id = 'YOUR_APP_ID'\n",
    "app_secret = 'YOUR_APP_SECRET'\n",
    "access_token = 'YOUR_ACCESS_TOKEN'\n",
    "access_token_secret = 'YOUR_ACCESS_TOKEN_SECRET'\n",
    "\n",
    "# Step 2: Set Twitter Auth object and obtain user access token with read-only permissions\n",
    "auth = tweepy.OAuthHandler(app_id, app_secret)\n",
    "auth.set_access_token(access_token, access_token_secret)\n",
    "api = tweepy.API(auth)\n",
    "\n",
    "# Step 3: Define social media security levels with corresponding read-only permissions\n",
    "level_one_permissions = ['basic_profile']\n",
    "level_two_permissions = ['basic_profile', 'email']\n",
    "level_three_permissions = ['basic_profile', 'email', 'read_tweets']\n",
    "\n",
    "# Step 4: Let user select a social media security level\n",
    "user_input = input(\"Enter a number between 1-3 to set social media security level: \")\n",
    "\n",
    "if user_input == '1':\n",
    "    permissions = level_one_permissions\n",
    "elif user_input == '2':\n",
    "    permissions = level_two_permissions\n",
    "elif user_input == '3':\n",
    "    permissions = level_three_permissions\n",
    "else:\n",
    "    print(\"Invalid input. Please enter a number between 1-3.\")\n",
    "\n",
    "# Step 5: Request user's permission to use selected permissions and retrieve user access token with read-only access\n",
    "access_token = api.access_token\n",
    "access_token_secret = api.access_token_secret\n",
    "\n",
    "# Step 6: Use Twitter API to retrieve data using user access token with selected read-only permissions\n",
    "user_data = api.get_user(include_email=True)\n",
    "print(f\"User data for {user_data.screen_name}:\\n{user_data._json}\")"
   ]
  },
  {
   "cell_type": "code",
   "execution_count": null,
   "metadata": {},
   "outputs": [],
   "source": []
  }
 ],
 "metadata": {
  "kernelspec": {
   "display_name": "Python 3",
   "language": "python",
   "name": "python3"
  },
  "language_info": {
   "codemirror_mode": {
    "name": "ipython",
    "version": 3
   },
   "file_extension": ".py",
   "mimetype": "text/x-python",
   "name": "python",
   "nbconvert_exporter": "python",
   "pygments_lexer": "ipython3",
   "version": "3.8.3"
  }
 },
 "nbformat": 4,
 "nbformat_minor": 4
}
